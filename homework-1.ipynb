{
 "cells": [
  {
   "cell_type": "markdown",
   "metadata": {},
   "source": [
    "# exercise 21#\n",
    "\n"
   ]
  },
  {
   "cell_type": "code",
   "execution_count": 10,
   "metadata": {},
   "outputs": [
    {
     "name": "stdout",
     "output_type": "stream",
     "text": [
      "Let's do some math with just functions!\n",
      "ADDING 20 + 15\n",
      "SUBSTRACTING 83 - 12\n",
      "MULTIPLYING 75 * 4\n",
      "DIVIDING 50 / 10\n",
      "apples: 35, grappes: 71, watermelon: 300, pineapple: 5.0\n",
      "something extra\n",
      "DIVIDING 5.0 / 2\n",
      "MULTIPLYING 300 * 2.5\n",
      "SUBSTRACTING 71 - 750.0\n",
      "ADDING 35 + -679.0\n",
      "That becomes:  -644.0 yeey\n"
     ]
    }
   ],
   "source": [
    "def add(a, b):\n",
    "    print(f\"ADDING {a} + {b}\")\n",
    "    return a + b\n",
    "\n",
    "def substract(a, b):\n",
    "    print(f\"SUBSTRACTING {a} - {b}\")\n",
    "    return a - b\n",
    "\n",
    "def multiply(a, b):\n",
    "    print(f\"MULTIPLYING {a} * {b}\")\n",
    "    return a * b\n",
    "\n",
    "def divide(a, b):\n",
    "    print(f\"DIVIDING {a} / {b}\")\n",
    "    return a / b\n",
    "\n",
    "\n",
    "print(\"Let's do some math with just functions!\")\n",
    "\n",
    "apples = add (20, 15)\n",
    "grappes = substract (83, 12) \n",
    "watermelon = multiply (75, 4)\n",
    "pineapple = divide (50, 10)\n",
    "                  \n",
    "print(f\"apples: {apples}, grappes: {grappes}, watermelon: {watermelon}, pineapple: {pineapple}\")\n",
    "\n",
    "#extra points#  \n",
    "\n",
    "print(\"something extra\")\n",
    "\n",
    "what = add(apples, substract(grappes, multiply(watermelon, divide(pineapple, 2))))\n",
    "\n",
    "print(\"That becomes: \", what, \"yeey\")\n",
    "\n",
    "                  \n"
   ]
  },
  {
   "cell_type": "markdown",
   "metadata": {},
   "source": [
    "# exercise 40#\n"
   ]
  },
  {
   "cell_type": "code",
   "execution_count": 73,
   "metadata": {},
   "outputs": [
    {
     "ename": "TypeError",
     "evalue": "Song() takes no arguments",
     "output_type": "error",
     "traceback": [
      "\u001b[1;31m---------------------------------------------------------------------------\u001b[0m",
      "\u001b[1;31mTypeError\u001b[0m                                 Traceback (most recent call last)",
      "\u001b[1;32m<ipython-input-73-b52f79fd0158>\u001b[0m in \u001b[0;36m<module>\u001b[1;34m\u001b[0m\n\u001b[0;32m     10\u001b[0m perfect = Song([\"I found a love for me\", \n\u001b[0;32m     11\u001b[0m                     \u001b[1;34m\"Darling just dive right in\"\u001b[0m\u001b[1;33m,\u001b[0m\u001b[1;33m\u001b[0m\u001b[1;33m\u001b[0m\u001b[0m\n\u001b[1;32m---> 12\u001b[1;33m                     \u001b[1;34m\"And follow my lead\"\u001b[0m\u001b[1;33m\u001b[0m\u001b[1;33m\u001b[0m\u001b[0m\n\u001b[0m\u001b[0;32m     13\u001b[0m                     \u001b[1;34m\"Well I found a girl beautiful and sweet\"\u001b[0m\u001b[1;33m\u001b[0m\u001b[1;33m\u001b[0m\u001b[0m\n\u001b[0;32m     14\u001b[0m                     \u001b[1;34m\"I never knew you were the someone waiting for me\"\u001b[0m\u001b[1;33m\u001b[0m\u001b[1;33m\u001b[0m\u001b[0m\n",
      "\u001b[1;31mTypeError\u001b[0m: Song() takes no arguments"
     ]
    }
   ],
   "source": [
    "class Song(object): \n",
    "\n",
    "    def _init_(self, lyrics): \n",
    "        self.lyrics = lyrics\n",
    "\n",
    "    def sing_me_a_song(self):      \n",
    "        for line in self.lyrics: \n",
    "            print(line)\n",
    "\n",
    "perfect = Song([\"I found a love for me\", \n",
    "                    \"Darling just dive right in\", \n",
    "                    \"And follow my lead\"\n",
    "                    \"Well I found a girl beautiful and sweet\"\n",
    "                    \"I never knew you were the someone waiting for me\"\n",
    "                    \"'Cause we were just kids when we fell in love\"])\n",
    " \n",
    "how_would_you_feel = Song([\"You are the one girl\", \n",
    "            \"And you know that it's true\"])\n",
    "perfect.sing_me_a_song()\n",
    "how_would_you_feel.sing_me_a_song()"
   ]
  },
  {
   "cell_type": "code",
   "execution_count": null,
   "metadata": {},
   "outputs": [],
   "source": []
  },
  {
   "cell_type": "code",
   "execution_count": null,
   "metadata": {},
   "outputs": [],
   "source": []
  }
 ],
 "metadata": {
  "kernelspec": {
   "display_name": "Python 3",
   "language": "python",
   "name": "python3"
  },
  "language_info": {
   "codemirror_mode": {
    "name": "ipython",
    "version": 3
   },
   "file_extension": ".py",
   "mimetype": "text/x-python",
   "name": "python",
   "nbconvert_exporter": "python",
   "pygments_lexer": "ipython3",
   "version": "3.7.4"
  }
 },
 "nbformat": 4,
 "nbformat_minor": 2
}
