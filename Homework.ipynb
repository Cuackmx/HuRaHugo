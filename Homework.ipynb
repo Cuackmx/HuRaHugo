{
 "cells": [
  {
   "cell_type": "markdown",
   "metadata": {},
   "source": [
    "# Parameters, Unpacking and variables"
   ]
  },
  {
   "cell_type": "code",
   "execution_count": 12,
   "metadata": {},
   "outputs": [
    {
     "name": "stdout",
     "output_type": "stream",
     "text": [
      "The script is called: C:\\Users\\2RJ23LA_RS4\\Anaconda3\\lib\\site-packages\\ipykernel_launcher.py\n",
      "Your first variable is: -f\n",
      "Your second variable is: C:\\Users\\2RJ23LA_RS4\\AppData\\Roaming\\jupyter\\runtime\\kernel-cd8780ed-2cc7-4644-bd23-5db65b4f6755.json\n"
     ]
    }
   ],
   "source": [
    "from sys import argv\n",
    "\n",
    "script, one, two , = argv\n",
    " \n",
    "print(\"The script is called:\", script)\n",
    "print(\"Your first variable is:\", one) \n",
    "print(\"Your second variable is:\", two) \n"
   ]
  },
  {
   "cell_type": "markdown",
   "metadata": {},
   "source": [
    "# Prompting and passing"
   ]
  },
  {
   "cell_type": "code",
   "execution_count": 18,
   "metadata": {},
   "outputs": [
    {
     "name": "stdout",
     "output_type": "stream",
     "text": [
      "Hi C:\\Users\\2RJ23LA_RS4\\AppData\\Roaming\\jupyter\\runtime\\kernel-cd8780ed-2cc7-4644-bd23-5db65b4f6755.json, I'm the C:\\Users\\2RJ23LA_RS4\\Anaconda3\\lib\\site-packages\\ipykernel_launcher.py script.\n",
      "I'd like to ask you a few questions.\n",
      "Do you like the hamburgers C:\\Users\\2RJ23LA_RS4\\AppData\\Roaming\\jupyter\\runtime\\kernel-cd8780ed-2cc7-4644-bd23-5db65b4f6755.json?\n",
      "> yes\n",
      "What do you often do? C:\\Users\\2RJ23LA_RS4\\AppData\\Roaming\\jupyter\\runtime\\kernel-cd8780ed-2cc7-4644-bd23-5db65b4f6755.json?\n",
      "> playing guita\n",
      "Are you happy?\n",
      "> yes\n",
      " \n",
      "Alright, so you said yes about liking hamburgers. \n",
      "You often do playing guita. That's cool. \n",
      "And you said  yes about being happy. \n",
      "\n"
     ]
    }
   ],
   "source": [
    "  from sys import argv\n",
    "\n",
    "     \n",
    "script, walk_man, user_name = argv \n",
    "prompt = '> '\n",
    "\n",
    "     \n",
    "print(f\"Hi {user_name}, I'm the {script} script.\") \n",
    "print(\"I'd like to ask you a few questions.\") \n",
    "print(f\"Do you like the hamburgers {user_name}?\")\n",
    "likes = input(prompt)\n",
    " \n",
    "print(f\"What do you often do? {user_name}?\")\n",
    "do = input(prompt)\n",
    " \n",
    "print(\"Are you happy?\")\n",
    "happiness = input(prompt)\n",
    " \n",
    "print(f\"\"\" \n",
    "  Alright, so you said {likes} about liking hamburgers. \n",
    "  You often do {do}. That's cool. \n",
    "  And you said  {happiness} about being happy. \n",
    "  \"\"\")"
   ]
  },
  {
   "cell_type": "markdown",
   "metadata": {},
   "source": [
    "# Reading files"
   ]
  },
  {
   "cell_type": "code",
   "execution_count": null,
   "metadata": {},
   "outputs": [
    {
     "name": "stdout",
     "output_type": "stream",
     "text": [
      "Here's your file C:\\Users\\2RJ23LA_RS4\\AppData\\Roaming\\jupyter\\runtime\\kernel-cd8780ed-2cc7-4644-bd23-5db65b4f6755.json:\n",
      "{\n",
      "  \"shell_port\": 2040,\n",
      "  \"iopub_port\": 2041,\n",
      "  \"stdin_port\": 2042,\n",
      "  \"control_port\": 2043,\n",
      "  \"hb_port\": 2044,\n",
      "  \"ip\": \"127.0.0.1\",\n",
      "  \"key\": \"bf074728-6fbe5af47c8b677f1c753db4\",\n",
      "  \"transport\": \"tcp\",\n",
      "  \"signature_scheme\": \"hmac-sha256\",\n",
      "  \"kernel_name\": \"\"\n",
      "}\n",
      "Type the filename again:\n"
     ]
    }
   ],
   "source": [
    "from sys import argv\n",
    " \n",
    "script, user_name, filename = argv\n",
    " \n",
    "txt = open(filename)\n",
    " \n",
    "print(f\"Here's your file {filename}:\") \n",
    "print(txt.read())\n",
    " \n",
    "print(\"Type the filename again:\") \n",
    "file_again = input(\"> \")\n",
    " \n",
    "txt_again = open(file_again)\n",
    "print(txt_again.read())"
   ]
  },
  {
   "cell_type": "markdown",
   "metadata": {},
   "source": [
    "# Reading and Writing Files\n"
   ]
  },
  {
   "cell_type": "code",
   "execution_count": null,
   "metadata": {},
   "outputs": [
    {
     "name": "stdout",
     "output_type": "stream",
     "text": [
      "We're going to erase C:\\Users\\2RJ23LA_RS4\\AppData\\Roaming\\jupyter\\runtime\\kernel-d914226d-64c2-4aa0-8f01-9bd26fecea1f.json.\n",
      "If you don't want that, write no.\n",
      "If you do want that, write yes.\n",
      "?no\n",
      "Opening the file...\n",
      "Truncating the file. Goodbye!\n",
      "Now I'm going to ask you for three lines.\n"
     ]
    }
   ],
   "source": [
    "from sys import argv\n",
    " \n",
    "script, username, filename = argv\n",
    "\n",
    "print(f\"We're going to erase {filename}.\") \n",
    "print(\"If you don't want that, write no.\") \n",
    "print(\"If you do want that, write yes.\")\n",
    " \n",
    "input(\"?\")\n",
    " \n",
    "print(\"Opening the file...\") \n",
    "target = open(filename, 'w')\n",
    "\n",
    "\n",
    "print(\"Truncating the file. Goodbye!\") \n",
    "target.truncate()\n",
    "\n",
    "print(\"Now I'm going to ask you for three lines.\")\n",
    "\n",
    "line1 = input(\"line 1: \") \n",
    "line2 = input(\"line 2: \") \n",
    "line3 = input(\"line 3: \")\n",
    " \n",
    "print(\"I'm going to write these to the file.\")\n",
    " \n",
    "target.write(line1) \n",
    "target.write(\"\\n\") \n",
    "target.write(line2) \n",
    "target.write(\"\\n\") \n",
    "target.write(line3)\n",
    "target.write(\"\\n\")\n",
    " \n",
    "print(\"And finally, we close it.\") \n",
    "target.close()"
   ]
  },
  {
   "cell_type": "markdown",
   "metadata": {},
   "source": [
    "# Names, Variables, Code, Functions"
   ]
  },
  {
   "cell_type": "code",
   "execution_count": 6,
   "metadata": {},
   "outputs": [
    {
     "name": "stdout",
     "output_type": "stream",
     "text": [
      "arg1: Hello, arg2: Good bye\n",
      "arg1: Hello again, arg2: see you\n",
      "arg1: Yeah!\n",
      "See you monday'.\n"
     ]
    }
   ],
   "source": [
    "def print_two(*args):\n",
    "    arg1, arg2 = args \n",
    "    print(f\"arg1: {arg1}, arg2: {arg2}\")\n",
    "\n",
    "def print_two_again(arg1, arg2): \n",
    "    print(f\"arg1: {arg1}, arg2: {arg2}\")\n",
    " \n",
    "def print_one(arg1):\n",
    "    print(f\"arg1: {arg1}\")\n",
    " \n",
    " \n",
    "def print_none():\n",
    "    print(\"See you monday'.\")\n",
    "\n",
    " \n",
    "print_two(\"Hello\",\"Good bye\")\n",
    "print_two_again(\"Hello again\",\"see you\")\n",
    "print_one(\"Yeah!\") \n",
    "print_none()"
   ]
  },
  {
   "cell_type": "markdown",
   "metadata": {},
   "source": [
    "# Functions and Variables\n"
   ]
  },
  {
   "cell_type": "code",
   "execution_count": 12,
   "metadata": {},
   "outputs": [
    {
     "name": "stdout",
     "output_type": "stream",
     "text": [
      "We can just give the function numbers directly:\n",
      "You have 20 Carlos V!\n",
      "You have 30 Hersheys!\n",
      "Man that's a lot of chocolates!\n",
      "Get a blanket.\n",
      "\n",
      "OR, we can use variables from our script:\n",
      "You have 10 Carlos V!\n",
      "You have 50 Hersheys!\n",
      "Man that's a lot of chocolates!\n",
      "Get a blanket.\n",
      "\n",
      "We can even do math inside too:\n",
      "You have 30 Carlos V!\n",
      "You have 11 Hersheys!\n",
      "Man that's a lot of chocolates!\n",
      "Get a blanket.\n",
      "\n",
      "And we can combine the two, variables and math:\n",
      "You have 110 Carlos V!\n",
      "You have 1050 Hersheys!\n",
      "Man that's a lot of chocolates!\n",
      "Get a blanket.\n",
      "\n"
     ]
    }
   ],
   "source": [
    " def chocolates(Carlos_V, Hersheys): \n",
    "        print(f\"You have {Carlos_V} Carlos V!\")\n",
    "        print(f\"You have {Hersheys} Hersheys!\")\n",
    "        print(\"Man that's a lot of chocolates!\") \n",
    "        print(\"Get a blanket.\\n\")\n",
    "\n",
    " \n",
    "print(\"We can just give the function numbers directly:\")\n",
    "chocolates(20, 30)\n",
    "\n",
    " \n",
    "print(\"OR, we can use variables from our script:\") \n",
    "amount_of_Carlos_V = 10 \n",
    "amount_of_Hersheys = 50\n",
    " \n",
    "chocolates(amount_of_Carlos_V, amount_of_Hersheys)\n",
    "\n",
    " \n",
    "print(\"We can even do math inside too:\") \n",
    "chocolates(10 + 20, 5 + 6)\n",
    "\n",
    "\n",
    "print(\"And we can combine the two, variables and math:\")\n",
    "chocolates(amount_of_Carlos_V + 100, amount_of_Hersheys + 1000)"
   ]
  },
  {
   "cell_type": "markdown",
   "metadata": {},
   "source": [
    "# Functions and Files"
   ]
  },
  {
   "cell_type": "code",
   "execution_count": 14,
   "metadata": {},
   "outputs": [
    {
     "name": "stdout",
     "output_type": "stream",
     "text": [
      "First let's print the whole file:\n",
      "\n",
      "{\n",
      "  \"shell_port\": 1991,\n",
      "  \"iopub_port\": 1992,\n",
      "  \"stdin_port\": 1993,\n",
      "  \"control_port\": 1994,\n",
      "  \"hb_port\": 1995,\n",
      "  \"ip\": \"127.0.0.1\",\n",
      "  \"key\": \"5f0f9990-078160c36a8c824cebcf4c01\",\n",
      "  \"transport\": \"tcp\",\n",
      "  \"signature_scheme\": \"hmac-sha256\",\n",
      "  \"kernel_name\": \"\"\n",
      "}\n",
      "Now let's rewind, kind of like a tape.\n",
      "Let's print three lines:\n",
      "1 {\n",
      "\n",
      "2   \"shell_port\": 1991,\n",
      "\n",
      "3   \"iopub_port\": 1992,\n",
      "\n"
     ]
    }
   ],
   "source": [
    "from sys import argv\n",
    " \n",
    "script,user, input_file = argv\n",
    " \n",
    "def print_all(f):\n",
    "    print(f.read())\n",
    " \n",
    "def rewind(f): \n",
    "    f.seek(0)\n",
    " \n",
    "def print_a_line(line_count, f):\n",
    "    print(line_count, f.readline())\n",
    " \n",
    "current_file = open(input_file)\n",
    " \n",
    "print(\"First let's print the whole file:\\n\")\n",
    "\n",
    "print_all(current_file)\n",
    "\n",
    "print(\"Now let's rewind, kind of like a tape.\")\n",
    "\n",
    "rewind(current_file)\n",
    " \n",
    "print(\"Let's print three lines:\")\n",
    " \n",
    "current_line = 1 \n",
    "print_a_line(current_line, current_file)\n",
    " \n",
    "current_line = current_line + 1 \n",
    "print_a_line(current_line, current_file)\n",
    " \n",
    "current_line = current_line + 1 \n",
    "print_a_line(current_line, current_file)"
   ]
  },
  {
   "cell_type": "code",
   "execution_count": null,
   "metadata": {},
   "outputs": [],
   "source": []
  }
 ],
 "metadata": {
  "kernelspec": {
   "display_name": "Python 3",
   "language": "python",
   "name": "python3"
  },
  "language_info": {
   "codemirror_mode": {
    "name": "ipython",
    "version": 3
   },
   "file_extension": ".py",
   "mimetype": "text/x-python",
   "name": "python",
   "nbconvert_exporter": "python",
   "pygments_lexer": "ipython3",
   "version": "3.7.3"
  }
 },
 "nbformat": 4,
 "nbformat_minor": 2
}
